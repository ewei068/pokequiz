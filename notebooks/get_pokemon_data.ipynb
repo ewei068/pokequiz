{
 "cells": [
  {
   "cell_type": "markdown",
   "metadata": {},
   "source": [
    "# Data Retrieval\n",
    "Notebook that retrieves all the data needed. Doesn't compute similarity scores (see other notebooks)."
   ]
  },
  {
   "cell_type": "code",
   "execution_count": 1,
   "metadata": {},
   "outputs": [],
   "source": [
    "import requests\n",
    "from tqdm import tqdm\n",
    "import json\n",
    "from PIL import Image, ImageDraw\n",
    "import io\n",
    "import os"
   ]
  },
  {
   "cell_type": "code",
   "execution_count": 2,
   "metadata": {},
   "outputs": [],
   "source": [
    "data_path = \"../data\"\n",
    "client_data_path = os.path.join(data_path, \"client_data\")\n",
    "pokemon_data_path = os.path.join(data_path, \"pokemon_data.json\")"
   ]
  },
  {
   "cell_type": "code",
   "execution_count": 3,
   "metadata": {},
   "outputs": [],
   "source": [
    "def save_json(object_, path):\n",
    "    # Serializing json\n",
    "    json_object = json.dumps(object_, indent=4)\n",
    "    \n",
    "    # Writing to sample.json\n",
    "    with open(path, \"w\") as outfile:\n",
    "        outfile.write(json_object)"
   ]
  },
  {
   "cell_type": "code",
   "execution_count": 4,
   "metadata": {},
   "outputs": [],
   "source": [
    "def load_json(path):\n",
    "    # Opening JSON file\n",
    "    with open(path, 'r') as openfile:\n",
    "        # Reading from json file\n",
    "        json_object = json.load(openfile)\n",
    "        return json_object"
   ]
  },
  {
   "cell_type": "markdown",
   "metadata": {},
   "source": [
    "## All pokemon data retrieval\n",
    "Queries the PokeAPI for Pokemon data and saves this. Should only be run once unless modified."
   ]
  },
  {
   "cell_type": "code",
   "execution_count": null,
   "metadata": {},
   "outputs": [],
   "source": [
    "url = \"https://pokeapi.co/api/v2/pokemon/\"\n",
    "all_pokemon_data = {}\n",
    "while url:\n",
    "    # Query the Pokemon API for information about this page of Pokemon\n",
    "    response = requests.get(url)\n",
    "    pokemon_list = response.json()\n",
    "    # Loop through the list of Pokemon\n",
    "    for pokemon in pokemon_list[\"results\"]:\n",
    "        \n",
    "        # Query the Pokemon API for information about this specific Pokemon\n",
    "        response = requests.get(pokemon[\"url\"])\n",
    "        pokemon_data = response.json()\n",
    "        \n",
    "        \n",
    "        pid = pokemon_data[\"id\"]\n",
    "        all_pokemon_data[pid] = pokemon_data\n",
    "        \n",
    "        # Query the Pokemon API for the sprite of this Pokemon\n",
    "        sprite_url = pokemon_data[\"sprites\"][\"front_default\"]\n",
    "        sprite_response = requests.get(sprite_url)\n",
    "\n",
    "        # Save the sprite to a file\n",
    "        with open(\"../data/sprites/%d.png\"%pid, \"wb\") as f:\n",
    "            f.write(sprite_response.content)\n",
    "        \n",
    "        # Update the URL to query the next page of results, if there is one\n",
    "        url = pokemon_list[\"next\"]\n",
    "        \n",
    "    # print(url)"
   ]
  },
  {
   "cell_type": "code",
   "execution_count": 24,
   "metadata": {},
   "outputs": [
    {
     "name": "stderr",
     "output_type": "stream",
     "text": [
      "100%|██████████| 899/899 [01:06<00:00, 13.60it/s]\n"
     ]
    }
   ],
   "source": [
    "# Get Pokedex entries\n",
    "for pid in tqdm(all_pokemon_data):\n",
    "    pokemon_data = all_pokemon_data[pid]\n",
    "    # Query the Pokemon API for the pokedex entry of this Pokemon\n",
    "    pokedex_response = requests.get(pokemon_data[\"species\"][\"url\"])\n",
    "    pokedex_data = pokedex_response.json()\n",
    "    pokedex_entry = next(entry for entry in pokedex_data[\"flavor_text_entries\"][::-1] if entry[\"language\"][\"name\"] == \"en\")\n",
    "    all_pokemon_data[pid][\"flavor_text\"] = pokedex_entry[\"flavor_text\"]"
   ]
  },
  {
   "cell_type": "code",
   "execution_count": 27,
   "metadata": {},
   "outputs": [],
   "source": [
    "save_json(all_pokemon_data, pokemon_data_path)"
   ]
  },
  {
   "cell_type": "markdown",
   "metadata": {},
   "source": [
    "## Data manipulation\n",
    "Filters and modifies pokemon data that will be served on the frontend."
   ]
  },
  {
   "cell_type": "code",
   "execution_count": 5,
   "metadata": {},
   "outputs": [],
   "source": [
    "all_pokemon_data = load_json(pokemon_data_path)"
   ]
  },
  {
   "cell_type": "code",
   "execution_count": 9,
   "metadata": {},
   "outputs": [
    {
     "name": "stderr",
     "output_type": "stream",
     "text": [
      "100%|██████████████████████████████████████████████████████████████████████| 899/899 [00:00<00:00, 4841.24it/s]\n"
     ]
    }
   ],
   "source": [
    "# filter pokemon data JSON\n",
    "filtered_data = {}\n",
    "all_pokemon_names = []\n",
    "for pid in all_pokemon_data:\n",
    "    pokemon_data = all_pokemon_data[pid]\n",
    "    all_pokemon_names.append(pokemon_data[\"species\"][\"name\"].capitalize())\n",
    "\n",
    "for pid in tqdm(all_pokemon_data):\n",
    "    pokemon_data = all_pokemon_data[pid]\n",
    "    filtered_pokemon_data = {\n",
    "        \"name\": pokemon_data[\"species\"][\"name\"].capitalize(),\n",
    "    }\n",
    "    \n",
    "    pokedex_entry = pokemon_data[\"flavor_text\"]\n",
    "    replacement_token = \"[REDACTED]\"\n",
    "    for name in all_pokemon_names:\n",
    "        pokedex_entry = pokedex_entry.replace(name, replacement_token)\n",
    "    filtered_pokemon_data[\"flavor_text\"] = pokedex_entry\n",
    "        \n",
    "    filtered_data[pid] = filtered_pokemon_data\n",
    "    \n",
    "save_json(filtered_data, os.path.join(client_data_path, \"pokemon_data.json\"))"
   ]
  },
  {
   "cell_type": "code",
   "execution_count": 50,
   "metadata": {},
   "outputs": [
    {
     "name": "stderr",
     "output_type": "stream",
     "text": [
      " 99%|█████████▉| 891/899 [00:09<00:00, 98.83it/s] \n"
     ]
    },
    {
     "ename": "FileNotFoundError",
     "evalue": "[Errno 2] No such file or directory: '../data/sprites/899.png'",
     "output_type": "error",
     "traceback": [
      "\u001b[0;31m---------------------------------------------------------------------------\u001b[0m",
      "\u001b[0;31mFileNotFoundError\u001b[0m                         Traceback (most recent call last)",
      "\u001b[0;32m<ipython-input-50-a8657a0f9cf3>\u001b[0m in \u001b[0;36m<module>\u001b[0;34m\u001b[0m\n\u001b[1;32m      1\u001b[0m \u001b[0;31m# create silhouettes\u001b[0m\u001b[0;34m\u001b[0m\u001b[0;34m\u001b[0m\u001b[0;34m\u001b[0m\u001b[0m\n\u001b[1;32m      2\u001b[0m \u001b[0;32mfor\u001b[0m \u001b[0mpid\u001b[0m \u001b[0;32min\u001b[0m \u001b[0mtqdm\u001b[0m\u001b[0;34m(\u001b[0m\u001b[0mall_pokemon_data\u001b[0m\u001b[0;34m)\u001b[0m\u001b[0;34m:\u001b[0m\u001b[0;34m\u001b[0m\u001b[0;34m\u001b[0m\u001b[0m\n\u001b[0;32m----> 3\u001b[0;31m     \u001b[0mimg\u001b[0m \u001b[0;34m=\u001b[0m \u001b[0mImage\u001b[0m\u001b[0;34m.\u001b[0m\u001b[0mopen\u001b[0m\u001b[0;34m(\u001b[0m\u001b[0;34m\"../data/sprites/%d.png\"\u001b[0m\u001b[0;34m%\u001b[0m\u001b[0mpid\u001b[0m\u001b[0;34m)\u001b[0m\u001b[0;34m.\u001b[0m\u001b[0mconvert\u001b[0m\u001b[0;34m(\u001b[0m\u001b[0;34m\"RGBA\"\u001b[0m\u001b[0;34m)\u001b[0m\u001b[0;34m\u001b[0m\u001b[0;34m\u001b[0m\u001b[0m\n\u001b[0m\u001b[1;32m      4\u001b[0m     \u001b[0mnew_img\u001b[0m \u001b[0;34m=\u001b[0m \u001b[0mImage\u001b[0m\u001b[0;34m.\u001b[0m\u001b[0mnew\u001b[0m\u001b[0;34m(\u001b[0m\u001b[0;34m\"RGBA\"\u001b[0m\u001b[0;34m,\u001b[0m \u001b[0mimg\u001b[0m\u001b[0;34m.\u001b[0m\u001b[0msize\u001b[0m\u001b[0;34m,\u001b[0m \u001b[0;34m(\u001b[0m\u001b[0;36m0\u001b[0m\u001b[0;34m,\u001b[0m \u001b[0;36m0\u001b[0m\u001b[0;34m,\u001b[0m \u001b[0;36m0\u001b[0m\u001b[0;34m,\u001b[0m \u001b[0;36m0\u001b[0m\u001b[0;34m)\u001b[0m\u001b[0;34m)\u001b[0m\u001b[0;34m\u001b[0m\u001b[0;34m\u001b[0m\u001b[0m\n\u001b[1;32m      5\u001b[0m \u001b[0;34m\u001b[0m\u001b[0m\n",
      "\u001b[0;32m~/opt/anaconda3/lib/python3.7/site-packages/PIL/Image.py\u001b[0m in \u001b[0;36mopen\u001b[0;34m(fp, mode)\u001b[0m\n\u001b[1;32m   2764\u001b[0m \u001b[0;34m\u001b[0m\u001b[0m\n\u001b[1;32m   2765\u001b[0m     \u001b[0;32mif\u001b[0m \u001b[0mfilename\u001b[0m\u001b[0;34m:\u001b[0m\u001b[0;34m\u001b[0m\u001b[0;34m\u001b[0m\u001b[0m\n\u001b[0;32m-> 2766\u001b[0;31m         \u001b[0mfp\u001b[0m \u001b[0;34m=\u001b[0m \u001b[0mbuiltins\u001b[0m\u001b[0;34m.\u001b[0m\u001b[0mopen\u001b[0m\u001b[0;34m(\u001b[0m\u001b[0mfilename\u001b[0m\u001b[0;34m,\u001b[0m \u001b[0;34m\"rb\"\u001b[0m\u001b[0;34m)\u001b[0m\u001b[0;34m\u001b[0m\u001b[0;34m\u001b[0m\u001b[0m\n\u001b[0m\u001b[1;32m   2767\u001b[0m         \u001b[0mexclusive_fp\u001b[0m \u001b[0;34m=\u001b[0m \u001b[0;32mTrue\u001b[0m\u001b[0;34m\u001b[0m\u001b[0;34m\u001b[0m\u001b[0m\n\u001b[1;32m   2768\u001b[0m \u001b[0;34m\u001b[0m\u001b[0m\n",
      "\u001b[0;31mFileNotFoundError\u001b[0m: [Errno 2] No such file or directory: '../data/sprites/899.png'"
     ]
    }
   ],
   "source": [
    "# create silhouettes\n",
    "for pid in tqdm(all_pokemon_data):\n",
    "    img = Image.open(\"../data/sprites/%d.png\"%pid).convert(\"RGBA\")\n",
    "    new_img = Image.new(\"RGBA\", img.size, (0, 0, 0, 0))\n",
    "\n",
    "    # Draw the sprite onto the black\n",
    "    for x in range(img.width):\n",
    "        for y in range(img.height):\n",
    "            # If the pixel is not transparent,\n",
    "            if img.getpixel((x, y))[3] != 0:\n",
    "                # Set the corresponding pixel in the new image to black\n",
    "                new_img.putpixel((x, y), (0, 0, 0, 255))\n",
    "\n",
    "    # Save the silhouette image to a file\n",
    "    new_img.save(\"../data/client_data/mystery_sprites/%d.png\"%pid)"
   ]
  },
  {
   "cell_type": "code",
   "execution_count": null,
   "metadata": {},
   "outputs": [],
   "source": []
  }
 ],
 "metadata": {
  "kernelspec": {
   "display_name": "pokequiz",
   "language": "python",
   "name": "pokequiz"
  },
  "language_info": {
   "codemirror_mode": {
    "name": "ipython",
    "version": 3
   },
   "file_extension": ".py",
   "mimetype": "text/x-python",
   "name": "python",
   "nbconvert_exporter": "python",
   "pygments_lexer": "ipython3",
   "version": "3.9.15"
  }
 },
 "nbformat": 4,
 "nbformat_minor": 2
}
