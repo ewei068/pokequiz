{
 "cells": [
  {
   "cell_type": "code",
   "execution_count": 1,
   "metadata": {},
   "outputs": [
    {
     "name": "stderr",
     "output_type": "stream",
     "text": [
      "/usr/local/lib/python3.9/site-packages/tqdm/auto.py:22: TqdmWarning: IProgress not found. Please update jupyter and ipywidgets. See https://ipywidgets.readthedocs.io/en/stable/user_install.html\n",
      "  from .autonotebook import tqdm as notebook_tqdm\n"
     ]
    }
   ],
   "source": [
    "import torch\n",
    "from transformers import BertTokenizer, BertModel\n",
    "\n",
    "import json\n",
    "import io\n",
    "from tqdm import tqdm"
   ]
  },
  {
   "cell_type": "code",
   "execution_count": 2,
   "metadata": {},
   "outputs": [
    {
     "name": "stderr",
     "output_type": "stream",
     "text": [
      "Some weights of the model checkpoint at bert-base-uncased were not used when initializing BertModel: ['cls.predictions.transform.dense.bias', 'cls.seq_relationship.bias', 'cls.predictions.transform.dense.weight', 'cls.seq_relationship.weight', 'cls.predictions.decoder.weight', 'cls.predictions.bias', 'cls.predictions.transform.LayerNorm.bias', 'cls.predictions.transform.LayerNorm.weight']\n",
      "- This IS expected if you are initializing BertModel from the checkpoint of a model trained on another task or with another architecture (e.g. initializing a BertForSequenceClassification model from a BertForPreTraining model).\n",
      "- This IS NOT expected if you are initializing BertModel from the checkpoint of a model that you expect to be exactly identical (initializing a BertForSequenceClassification model from a BertForSequenceClassification model).\n"
     ]
    }
   ],
   "source": [
    "# Load the BERT model and tokenizer\n",
    "tokenizer = BertTokenizer.from_pretrained('bert-base-uncased')\n",
    "model = BertModel.from_pretrained('bert-base-uncased')"
   ]
  },
  {
   "cell_type": "code",
   "execution_count": 3,
   "metadata": {},
   "outputs": [],
   "source": [
    "dataset_path = \"../data/pokemon_data.json\""
   ]
  },
  {
   "cell_type": "code",
   "execution_count": 4,
   "metadata": {},
   "outputs": [],
   "source": [
    "def load_json(path):\n",
    "    # Opening JSON file\n",
    "    with open(path, 'r') as openfile:\n",
    "        # Reading from json file\n",
    "        json_object = json.load(openfile)\n",
    "        return json_object\n",
    "    \n",
    "def save_json(object_, path):\n",
    "    # Serializing json\n",
    "    json_object = json.dumps(object_, indent=4)\n",
    "    \n",
    "    # Writing to sample.json\n",
    "    with open(path, \"w\") as outfile:\n",
    "        outfile.write(json_object)"
   ]
  },
  {
   "cell_type": "code",
   "execution_count": 5,
   "metadata": {},
   "outputs": [],
   "source": [
    "all_pokemon_data = load_json(dataset_path)"
   ]
  },
  {
   "cell_type": "code",
   "execution_count": 33,
   "metadata": {},
   "outputs": [
    {
     "name": "stderr",
     "output_type": "stream",
     "text": [
      "100%|████████████████████████████████████████████████████████████████████████| 899/899 [00:31<00:00, 28.11it/s]\n"
     ]
    }
   ],
   "source": [
    "# generate embeddings for all pokedex entries\n",
    "# compare pokedex entry embeddings\n",
    "all_embeddings = {}\n",
    "for pid in tqdm(all_pokemon_data):\n",
    "    # Tokenize and encode the strings\n",
    "    input_ids = torch.tensor([tokenizer.encode(all_pokemon_data[pid][\"flavor_text\"], add_special_tokens=True)])\n",
    "    with torch.no_grad():\n",
    "        output = model(input_ids)[0]\n",
    "        string_embedding = output[:, 0, :]  # Use the hidden state of the first token as the embedding\n",
    "    all_embeddings[pid] = string_embedding\n",
    "    # print(input_ids.shape)"
   ]
  },
  {
   "cell_type": "code",
   "execution_count": 43,
   "metadata": {},
   "outputs": [
    {
     "name": "stderr",
     "output_type": "stream",
     "text": [
      "100%|████████████████████████████████████████████████████████████████████████| 899/899 [00:30<00:00, 29.22it/s]\n"
     ]
    }
   ],
   "source": [
    "# compare pokedex entry embeddings\n",
    "all_similarities = {}\n",
    "for pid1 in tqdm(all_pokemon_data):\n",
    "    string1_embedding = all_embeddings[pid1]\n",
    "    \n",
    "    similarities = []\n",
    "    for pid2 in all_pokemon_data:\n",
    "        if pid1 == pid2:\n",
    "            continue\n",
    "        string2_embedding = all_embeddings[pid2]\n",
    "        \n",
    "        # Calculate the cosine similarity between the embeddings\n",
    "        cosine_similarity = torch.nn.CosineSimilarity(dim=1, eps=1e-6)\n",
    "        with torch.no_grad():\n",
    "            similarity = cosine_similarity(string1_embedding, string2_embedding)\n",
    "        similarities.append((pid2, similarity.item()))\n",
    "    \n",
    "    similarities.sort(key = lambda x: x[1], reverse=True)\n",
    "    all_similarities[pid1] = similarities"
   ]
  },
  {
   "cell_type": "code",
   "execution_count": 45,
   "metadata": {},
   "outputs": [],
   "source": [
    "save_json(all_similarities, \"../data/client_data/pokedex_similarities.json\")"
   ]
  },
  {
   "cell_type": "code",
   "execution_count": 44,
   "metadata": {},
   "outputs": [
    {
     "name": "stdout",
     "output_type": "stream",
     "text": [
      "It emits a soothing aura from its ribbon-shaped organs. It wraps\n",
      "these appendages around quarrelers to instantly restore calm to\n",
      "the situation.\n",
      "========\n",
      "783 0.9107884764671326\n",
      "Before attacking its enemies, it clashes its\n",
      "scales together and roars. Its sharp claws\n",
      "shred the opposition.\n",
      "\n",
      "465 0.908868670463562\n",
      "Draped with long vines, it resembles a shrub in appearance.\n",
      "It swings bundles of vines as though they were arms, wrapping\n",
      "them around prey to ensnare them.\n",
      "\n",
      "636 0.9084455370903015\n",
      "Larvesta’s body is warm all over. It spouts fire\n",
      "from the tips of its horns to intimidate predators\n",
      "and scare prey.\n",
      "\n",
      "813 0.908038854598999\n",
      "It has special pads on the backs of its feet, and\n",
      "one on its nose. Once it’s raring to fight, these\n",
      "pads radiate tremendous heat.\n",
      "\n",
      "613 0.9078810214996338\n",
      "It sniffles before performing a move, using its\n",
      "frosty snot to provide an icy element to any\n",
      "move that needs it.\n",
      "\n",
      "656 0.907250165939331\n",
      "It protects its skin by covering its body in\n",
      "delicate bubbles. Beneath its happy-go-lucky air,\n",
      "it keeps a watchful eye on its surroundings.\n",
      "\n",
      "861 0.9068895578384399\n",
      "Its hairs work like muscle fibers. When its hairs\n",
      "unfurl, they latch on to opponents, ensnaring\n",
      "them as tentacles would.\n",
      "\n",
      "761 0.9063661098480225\n",
      "When under attack, it secretes a sweet\n",
      "and delicious sweat. The scent only calls\n",
      "more enemies to it.\n",
      "\n",
      "865 0.9054633378982544\n",
      "After deflecting attacks with its hard leaf shield,\n",
      "it strikes back with its sharp leek stalk. The leek\n",
      "stalk is both weapon and food.\n",
      "\n",
      "866 0.904518723487854\n",
      "Its amusing movements make it very popular.\n",
      "It releases its psychic power from the pattern\n",
      "on its belly.\n",
      "\n",
      "721 0.9041658639907837\n",
      "It expels its internal steam from the\n",
      "arms on its back. It has enough\n",
      "power to blow away a mountain.\n",
      "\n",
      "850 0.9041091799736023\n",
      "It wraps prey up with its heated body, cooking\n",
      "them in its coils. Once they’re well-done, it will\n",
      "voraciously nibble them down to the last morsel.\n",
      "\n",
      "33 0.9018464088439941\n",
      "It’s nervous and quick to act aggressively.\n",
      "The potency of its poison increases along with\n",
      "the level of adrenaline present in its body.\n",
      "\n",
      "640 0.9017381072044373\n",
      "It darts around opponents with a flurry of quick\n",
      "movements, slicing them up with its horns.\n",
      "\n",
      "98 0.9015119671821594\n",
      "If it senses danger approaching, it cloaks itself\n",
      "with bubbles from its mouth so it will look bigger.\n",
      "\n",
      "525 0.9006468653678894\n",
      "It relies on sound in order to monitor what’s in its\n",
      "vicinity. When angered, it will attack without ever\n",
      "changing the direction it’s facing.\n",
      "\n",
      "779 0.9000304937362671\n",
      "Its skin is thick enough to fend off Mareanie’s\n",
      "spikes. With its robust teeth, Bruxish crunches\n",
      "up the spikes and eats them.\n",
      "\n",
      "39 0.8999149203300476\n",
      "By freely changing the wavelength of its voice,\n",
      "Jigglypuff sings a mysterious melody sure to\n",
      "make any listener sleepy.\n",
      "\n",
      "303 0.8996220827102661\n",
      "It chomps with its gaping mouth. Its huge jaws are\n",
      "actually steel horns that have been transformed.\n",
      "\n",
      "438 0.8989412784576416\n",
      "Its tears elicit sympathy from those who see them, but do\n",
      "not be deceived! This expulsion of body water is merely a\n",
      "physiological mechanism for keeping itself in good health.\n",
      "\n"
     ]
    }
   ],
   "source": [
    "chosen_pid = \"700\"\n",
    "print(all_pokemon_data[chosen_pid][\"flavor_text\"])\n",
    "print(\"========\")\n",
    "for pid, similarity in all_similarities[chosen_pid][:20]:\n",
    "    print(pid, similarity)\n",
    "    print(all_pokemon_data[pid][\"flavor_text\"])\n",
    "    print()"
   ]
  },
  {
   "cell_type": "code",
   "execution_count": null,
   "metadata": {},
   "outputs": [],
   "source": []
  }
 ],
 "metadata": {
  "kernelspec": {
   "display_name": "pokequiz",
   "language": "python",
   "name": "pokequiz"
  },
  "language_info": {
   "codemirror_mode": {
    "name": "ipython",
    "version": 3
   },
   "file_extension": ".py",
   "mimetype": "text/x-python",
   "name": "python",
   "nbconvert_exporter": "python",
   "pygments_lexer": "ipython3",
   "version": "3.9.15"
  }
 },
 "nbformat": 4,
 "nbformat_minor": 2
}
