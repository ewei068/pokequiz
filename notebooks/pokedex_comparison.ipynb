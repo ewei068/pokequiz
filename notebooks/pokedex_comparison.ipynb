{
 "cells": [
  {
   "cell_type": "code",
   "execution_count": 2,
   "metadata": {},
   "outputs": [],
   "source": [
    "import torch\n",
    "from transformers import BertTokenizer, BertModel\n",
    "\n",
    "import json\n",
    "import io\n",
    "from tqdm import tqdm"
   ]
  },
  {
   "cell_type": "code",
   "execution_count": 3,
   "metadata": {},
   "outputs": [
    {
     "name": "stderr",
     "output_type": "stream",
     "text": [
      "Downloading: 100%|███████████████████████████████████████████████████████████| 232k/232k [00:00<00:00, 466kB/s]\n",
      "Downloading: 100%|██████████████████████████████████████████████████████████| 28.0/28.0 [00:00<00:00, 14.2kB/s]\n",
      "Downloading: 100%|█████████████████████████████████████████████████████████████| 570/570 [00:00<00:00, 288kB/s]\n",
      "Downloading: 100%|██████████████████████████████████████████████████████████| 440M/440M [00:58<00:00, 7.58MB/s]\n",
      "Some weights of the model checkpoint at bert-base-uncased were not used when initializing BertModel: ['cls.predictions.transform.LayerNorm.bias', 'cls.seq_relationship.weight', 'cls.predictions.decoder.weight', 'cls.predictions.transform.LayerNorm.weight', 'cls.predictions.transform.dense.bias', 'cls.predictions.transform.dense.weight', 'cls.seq_relationship.bias', 'cls.predictions.bias']\n",
      "- This IS expected if you are initializing BertModel from the checkpoint of a model trained on another task or with another architecture (e.g. initializing a BertForSequenceClassification model from a BertForPreTraining model).\n",
      "- This IS NOT expected if you are initializing BertModel from the checkpoint of a model that you expect to be exactly identical (initializing a BertForSequenceClassification model from a BertForSequenceClassification model).\n"
     ]
    }
   ],
   "source": [
    "# Load the BERT model and tokenizer\n",
    "tokenizer = BertTokenizer.from_pretrained('bert-base-uncased')\n",
    "model = BertModel.from_pretrained('bert-base-uncased')"
   ]
  },
  {
   "cell_type": "code",
   "execution_count": 4,
   "metadata": {},
   "outputs": [],
   "source": [
    "dataset_path = \"../data/pokemon_data.json\""
   ]
  },
  {
   "cell_type": "code",
   "execution_count": 5,
   "metadata": {},
   "outputs": [],
   "source": [
    "def load_json(path):\n",
    "    # Opening JSON file\n",
    "    with open(path, 'r') as openfile:\n",
    "        # Reading from json file\n",
    "        json_object = json.load(openfile)\n",
    "        return json_object\n",
    "    \n",
    "def save_json(object_, path):\n",
    "    # Serializing json\n",
    "    json_object = json.dumps(object_, indent=4)\n",
    "    \n",
    "    # Writing to sample.json\n",
    "    with open(path, \"w\") as outfile:\n",
    "        outfile.write(json_object)"
   ]
  },
  {
   "cell_type": "code",
   "execution_count": 6,
   "metadata": {},
   "outputs": [],
   "source": [
    "all_pokemon_data = load_json(dataset_path)"
   ]
  },
  {
   "cell_type": "code",
   "execution_count": 9,
   "metadata": {},
   "outputs": [
    {
     "name": "stderr",
     "output_type": "stream",
     "text": [
      "  0%|                                                                                  | 0/899 [01:10<?, ?it/s]\n"
     ]
    }
   ],
   "source": [
    "# compare silhouettes\n",
    "all_similarities = {}\n",
    "for pid1 in tqdm(all_pokemon_data):\n",
    "    # Tokenize and encode the strings\n",
    "    input_ids = torch.tensor([tokenizer.encode(all_pokemon_data[pid1][\"flavor_text\"], add_special_tokens=True)])\n",
    "    output = model(input_ids)[0]\n",
    "    string1_embedding = output[:, 0, :]  # Use the hidden state of the first token as the embedding\n",
    "    \n",
    "    similarities = []\n",
    "    for pid2 in all_pokemon_data:\n",
    "        if pid1 == pid2:\n",
    "            continue\n",
    "        input_ids = torch.tensor([tokenizer.encode(all_pokemon_data[pid2][\"flavor_text\"], add_special_tokens=True)])\n",
    "        output = model(input_ids)[0]\n",
    "        string2_embedding = output[:, 0, :]\n",
    "        \n",
    "        # Calculate the cosine similarity between the embeddings\n",
    "        cosine_similarity = torch.nn.CosineSimilarity(dim=1, eps=1e-6)\n",
    "        similarity = cosine_similarity(string1_embedding, string2_embedding)\n",
    "        similarities.append((pid2, similarity))\n",
    "    \n",
    "    similarities.sort(key = lambda x: x[1], reverse=True)\n",
    "    all_similarities[pid1] = similarities"
   ]
  },
  {
   "cell_type": "code",
   "execution_count": null,
   "metadata": {},
   "outputs": [],
   "source": [
    "save_json(all_similarities, \"../data/client_data/pokedex_similarities.json\")"
   ]
  },
  {
   "cell_type": "code",
   "execution_count": 17,
   "metadata": {},
   "outputs": [
    {
     "name": "stdout",
     "output_type": "stream",
     "text": [
      "While it is young, it uses the nutrients that are\n",
      "stored in the seed on its back in order to grow.\n",
      "========\n",
      "290 0.9082520008087158\n",
      "It can sometimes live underground for more than\n",
      "10 years. It absorbs nutrients from the roots\n",
      "of trees.\n",
      "\n",
      "775 0.9057706594467163\n",
      "It remains asleep from birth to death as a result\n",
      "of the sedative properties of the leaves that\n",
      "form its diet.\n",
      "\n",
      "194 0.9049892425537109\n",
      "When walking on land, it covers its body with a\n",
      "poisonous film that keeps its skin from dehydrating.\n",
      "\n",
      "2 0.9044811725616455\n",
      "Exposure to sunlight adds to its strength.\n",
      "Sunlight also makes the bud on its back\n",
      "grow larger.\n",
      "\n",
      "732 0.9043053984642029\n",
      "From its mouth, it fires the seeds of berries\n",
      "it has eaten. The scattered seeds give rise\n",
      "to new plants.\n",
      "\n",
      "496 0.8899728655815125\n",
      "When it gets dirty, its leaves can’t be used in\n",
      "photosynthesis, so it always keeps itself clean.\n",
      "\n",
      "865 0.8863638043403625\n",
      "After deflecting attacks with its hard leaf shield,\n",
      "it strikes back with its sharp leek stalk. The leek\n",
      "stalk is both weapon and food.\n",
      "\n",
      "27 0.885881781578064\n",
      "It burrows into the ground to create its nest. If\n",
      "hard stones impede its tunneling, it uses its sharp\n",
      "claws to shatter them and then carries on digging.\n",
      "\n",
      "672 0.885357677936554\n",
      "If it has sunshine and water, it doesn’t\n",
      "need to eat, because it can generate\n",
      "energy from the leaves on its back.\n",
      "\n",
      "329 0.883851945400238\n",
      "To help make its wings grow, it dissolves\n",
      "quantities of prey in its digestive juices and\n",
      "guzzles them down every day.\n",
      "\n",
      "516 0.8826493620872498\n",
      "It prefers places with clean water. When its tuft runs\n",
      "low, it replenishes it by siphoning up water with\n",
      "its tail.\n",
      "\n",
      "273 0.8822606801986694\n",
      "It attaches itself to a tree branch using the top of\n",
      "its head. Strong winds can sometimes make it fall.\n",
      "\n",
      "168 0.8817487359046936\n",
      "It spews threads from its mouth to catch its\n",
      "prey. When night falls, it leaves its web to go\n",
      "hunt aggressively.\n",
      "\n",
      "49 0.879628598690033\n",
      "The powdery scales on its wings are hard to\n",
      "remove from skin. They also contain poison\n",
      "that leaks out on contact.\n",
      "\n",
      "246 0.8792363405227661\n",
      "It feeds on soil. After it has eaten a large\n",
      "mountain, it will fall asleep so it can grow.\n",
      "\n",
      "45 0.8790043592453003\n",
      "The larger its petals, the more toxic pollen it\n",
      "contains. Its big head is heavy and hard to hold up.\n",
      "\n",
      "31 0.878749430179596\n",
      "It pacifies offspring by placing them in the gaps\n",
      "between the spines on its back. The spines will\n",
      "never secrete poison while young are present.\n",
      "\n",
      "346 0.8779693841934204\n",
      "Once Cradily catches prey in its tentacles,\n",
      "it digests them whole and absorbs their nutrients.\n",
      "\n",
      "265 0.8778768181800842\n",
      "Likes sap and is abundant in the wild. Why it evolves into\n",
      "various different forms is unknown. One cannot tell from a\n",
      "Wurmple's appearance which form it will take when it evolves.\n",
      "\n",
      "541 0.8767848610877991\n",
      "It protects itself from the cold by wrapping up in\n",
      "leaves. It stays on the move, eating leaves\n",
      "in forests.\n",
      "\n"
     ]
    }
   ],
   "source": [
    "chosen_pid = \"1\"\n",
    "print(all_pokemon_data[chosen_pid][\"flavor_text\"])\n",
    "print(\"========\")\n",
    "for pid, similarity in all_similarities[chosen_pid][:20]:\n",
    "    print(pid, similarity.item())\n",
    "    print(all_pokemon_data[pid][\"flavor_text\"])\n",
    "    print()"
   ]
  },
  {
   "cell_type": "code",
   "execution_count": null,
   "metadata": {},
   "outputs": [],
   "source": []
  }
 ],
 "metadata": {
  "kernelspec": {
   "display_name": "pokequiz",
   "language": "python",
   "name": "pokequiz"
  },
  "language_info": {
   "codemirror_mode": {
    "name": "ipython",
    "version": 3
   },
   "file_extension": ".py",
   "mimetype": "text/x-python",
   "name": "python",
   "nbconvert_exporter": "python",
   "pygments_lexer": "ipython3",
   "version": "3.9.15"
  }
 },
 "nbformat": 4,
 "nbformat_minor": 2
}
