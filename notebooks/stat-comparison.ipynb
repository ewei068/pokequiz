{
 "cells": [
  {
   "cell_type": "code",
   "execution_count": 20,
   "metadata": {},
   "outputs": [],
   "source": [
    "import numpy as np\n",
    "\n",
    "import json\n",
    "import io\n",
    "from tqdm import tqdm"
   ]
  },
  {
   "cell_type": "code",
   "execution_count": 21,
   "metadata": {},
   "outputs": [],
   "source": [
    "dataset_path = \"../data/pokemon_data.json\""
   ]
  },
  {
   "cell_type": "code",
   "execution_count": 22,
   "metadata": {},
   "outputs": [],
   "source": [
    "def load_json(path):\n",
    "    # Opening JSON file\n",
    "    with open(path, 'r') as openfile:\n",
    "        # Reading from json file\n",
    "        json_object = json.load(openfile)\n",
    "        return json_object\n",
    "    \n",
    "def save_json(object_, path):\n",
    "    # Serializing json\n",
    "    json_object = json.dumps(object_, indent=4)\n",
    "    \n",
    "    # Writing to sample.json\n",
    "    with open(path, \"w\") as outfile:\n",
    "        outfile.write(json_object)"
   ]
  },
  {
   "cell_type": "code",
   "execution_count": 4,
   "metadata": {},
   "outputs": [],
   "source": [
    "all_pokemon_data = load_json(dataset_path)"
   ]
  },
  {
   "cell_type": "code",
   "execution_count": 17,
   "metadata": {},
   "outputs": [
    {
     "name": "stderr",
     "output_type": "stream",
     "text": [
      "100%|█████████████████████████████████████████████████████████████████████████████████████| 899/899 [00:06<00:00, 133.72it/s]\n"
     ]
    }
   ],
   "source": [
    "# compare pokemon stats\n",
    "all_similarities = {}\n",
    "max_p = .95 # max similarity probability\n",
    "for pid1 in tqdm(all_pokemon_data):\n",
    "    pkmn1_stats = all_pokemon_data[pid1][\"stats\"]\n",
    "    pkmn1_stats = np.array([stat[\"base_stat\"] for stat in pkmn1_stats])\n",
    "    \n",
    "    similarities = []\n",
    "    for pid2 in all_pokemon_data:\n",
    "        if pid1 == pid2:\n",
    "            continue\n",
    "        pkmn2_stats = all_pokemon_data[pid2][\"stats\"]\n",
    "        pkmn2_stats = np.array([stat[\"base_stat\"] for stat in pkmn2_stats])\n",
    "\n",
    "        # Compute stat distance\n",
    "        cost = np.linalg.norm(pkmn1_stats - pkmn2_stats)\n",
    "        # If stats identical, skip\n",
    "        if cost == 0:\n",
    "            continue\n",
    "        \n",
    "        similarity = -1 * cost\n",
    "        similarities.append((pid2, similarity))\n",
    "        \n",
    "    _, min_sim = min(similarities, key = lambda x: x[1])\n",
    "    _, max_sim = max(similarities, key = lambda x: x[1])\n",
    "    max_sim -= min_sim\n",
    "    \n",
    "    similarities = [(pid, ((sim - min_sim) * max_p) / max_sim) for pid, sim in similarities]\n",
    "    \n",
    "    similarities.sort(key = lambda x: x[1], reverse=True)\n",
    "    # truncate to top 50\n",
    "    similarities = similarities[:50]\n",
    "    all_similarities[pid1] = similarities"
   ]
  },
  {
   "cell_type": "code",
   "execution_count": 19,
   "metadata": {},
   "outputs": [],
   "source": [
    "save_json(all_similarities, \"../data/client_data/stat_similarities.json\")"
   ]
  },
  {
   "cell_type": "code",
   "execution_count": 18,
   "metadata": {},
   "outputs": [
    {
     "name": "stdout",
     "output_type": "stream",
     "text": [
      "[106, 110, 90, 154, 90, 130]\n",
      "========\n",
      "890 0.95\n",
      "[140, 85, 95, 145, 95, 130]\n",
      "\n",
      "491 0.9430794311492136\n",
      "[70, 90, 90, 135, 90, 125]\n",
      "\n",
      "635 0.9429200655164381\n",
      "[92, 105, 90, 125, 90, 98]\n",
      "\n",
      "484 0.9356712545791814\n",
      "[90, 120, 100, 150, 120, 100]\n",
      "\n",
      "716 0.9301130409787238\n",
      "[126, 131, 95, 131, 98, 99]\n",
      "\n",
      "717 0.9301130409787238\n",
      "[126, 131, 95, 131, 98, 99]\n",
      "\n",
      "145 0.9300391117632293\n",
      "[90, 90, 85, 125, 90, 100]\n",
      "\n",
      "641 0.928786953736677\n",
      "[79, 115, 70, 125, 80, 111]\n",
      "\n",
      "642 0.928786953736677\n",
      "[79, 115, 70, 125, 80, 111]\n",
      "\n",
      "381 0.9252974994810638\n",
      "[80, 90, 80, 130, 110, 110]\n",
      "\n",
      "646 0.9249378177903214\n",
      "[125, 130, 90, 130, 90, 95]\n",
      "\n",
      "792 0.922226864699057\n",
      "[137, 113, 89, 137, 107, 97]\n",
      "\n",
      "483 0.9182326331060566\n",
      "[100, 120, 120, 150, 100, 90]\n",
      "\n",
      "643 0.9182326331060566\n",
      "[100, 120, 100, 150, 120, 90]\n",
      "\n",
      "647 0.9173333209420951\n",
      "[91, 72, 90, 129, 90, 108]\n",
      "\n",
      "146 0.9158209424248759\n",
      "[90, 100, 90, 125, 85, 90]\n",
      "\n",
      "384 0.9151373967565394\n",
      "[105, 150, 90, 150, 90, 95]\n",
      "\n",
      "243 0.9114201491148431\n",
      "[90, 85, 75, 115, 100, 115]\n",
      "\n",
      "645 0.9106183667137948\n",
      "[89, 125, 90, 115, 80, 101]\n",
      "\n",
      "482 0.9081004921786324\n",
      "[75, 125, 70, 125, 70, 115]\n",
      "\n"
     ]
    }
   ],
   "source": [
    "# explore results\n",
    "chosen_pid = \"150\"\n",
    "print([stat[\"base_stat\"] for stat in all_pokemon_data[chosen_pid][\"stats\"]])\n",
    "print(\"========\")\n",
    "for pid, similarity in all_similarities[chosen_pid][:20]:\n",
    "    print(pid, similarity)\n",
    "    print([stat[\"base_stat\"] for stat in all_pokemon_data[pid][\"stats\"]])\n",
    "    print()"
   ]
  },
  {
   "cell_type": "code",
   "execution_count": null,
   "metadata": {},
   "outputs": [],
   "source": []
  }
 ],
 "metadata": {
  "kernelspec": {
   "display_name": "pokequiz",
   "language": "python",
   "name": "pokequiz"
  },
  "language_info": {
   "codemirror_mode": {
    "name": "ipython",
    "version": 3
   },
   "file_extension": ".py",
   "mimetype": "text/x-python",
   "name": "python",
   "nbconvert_exporter": "python",
   "pygments_lexer": "ipython3",
   "version": "3.9.15"
  }
 },
 "nbformat": 4,
 "nbformat_minor": 2
}
